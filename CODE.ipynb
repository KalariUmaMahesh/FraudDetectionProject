{
 "cells": [
  {
   "cell_type": "code",
   "execution_count": 129,
   "metadata": {},
   "outputs": [],
   "source": [
    "from sklearn.ensemble import RandomForestClassifier, GradientBoostingClassifier, AdaBoostClassifier\n",
    "from sklearn.model_selection import train_test_split\n",
    "from sklearn.metrics import accuracy_score\n",
    "from sklearn.model_selection import GridSearchCV\n",
    "from sklearn.feature_selection import SelectFromModel\n",
    "from sklearn.preprocessing import StandardScaler\n",
    "from datetime import datetime, timedelta\n",
    "from sklearn.metrics import accuracy_score, precision_score, recall_score, f1_score, classification_report, confusion_matrix\n",
    "import matplotlib.pyplot as plt\n",
    "import seaborn as sns\n",
    "import pandas as pd\n",
    "import numpy as np\n",
    "from sklearn.model_selection import train_test_split"
   ]
  },
  {
   "cell_type": "code",
   "execution_count": 130,
   "metadata": {},
   "outputs": [],
   "source": [
    "df = pd.read_csv(r\"Dataset\\dataset.csv\")"
   ]
  },
  {
   "cell_type": "code",
   "execution_count": 131,
   "metadata": {},
   "outputs": [
    {
     "name": "stdout",
     "output_type": "stream",
     "text": [
      "Duplicate values counts:  0\n"
     ]
    }
   ],
   "source": [
    "print(\"Duplicate values counts: \", df.duplicated().sum())"
   ]
  },
  {
   "cell_type": "code",
   "execution_count": 132,
   "metadata": {},
   "outputs": [
    {
     "name": "stdout",
     "output_type": "stream",
     "text": [
      "Empty values counts: \n",
      "Unnamed: 0                0\n",
      "Age_Group_18-25           0\n",
      "Age_Group_26-35           0\n",
      "Age_Group_36-45           0\n",
      "Age_Group_46-55           0\n",
      "Age_Group_56-65           0\n",
      "Gender_Female             0\n",
      "Gender_Male               0\n",
      "Avg_Transaction_Amount    0\n",
      "Add_to_Cart               0\n",
      "Browse                    0\n",
      "Login                     0\n",
      "Purchase                  0\n",
      "Label                     0\n",
      "dtype: int64\n"
     ]
    }
   ],
   "source": [
    "print(\"Empty values counts: \")\n",
    "print(df.isnull().sum())"
   ]
  },
  {
   "cell_type": "code",
   "execution_count": 133,
   "metadata": {},
   "outputs": [],
   "source": [
    "# Drop unnecessary columns\n",
    "df = df.drop(columns=['Unnamed: 0'])"
   ]
  },
  {
   "cell_type": "code",
   "execution_count": 134,
   "metadata": {},
   "outputs": [
    {
     "name": "stdout",
     "output_type": "stream",
     "text": [
      "<class 'pandas.core.frame.DataFrame'>\n",
      "RangeIndex: 5000 entries, 0 to 4999\n",
      "Data columns (total 13 columns):\n",
      " #   Column                  Non-Null Count  Dtype  \n",
      "---  ------                  --------------  -----  \n",
      " 0   Age_Group_18-25         5000 non-null   bool   \n",
      " 1   Age_Group_26-35         5000 non-null   bool   \n",
      " 2   Age_Group_36-45         5000 non-null   bool   \n",
      " 3   Age_Group_46-55         5000 non-null   bool   \n",
      " 4   Age_Group_56-65         5000 non-null   bool   \n",
      " 5   Gender_Female           5000 non-null   bool   \n",
      " 6   Gender_Male             5000 non-null   bool   \n",
      " 7   Avg_Transaction_Amount  5000 non-null   float64\n",
      " 8   Add_to_Cart             5000 non-null   int64  \n",
      " 9   Browse                  5000 non-null   int64  \n",
      " 10  Login                   5000 non-null   int64  \n",
      " 11  Purchase                5000 non-null   int64  \n",
      " 12  Label                   5000 non-null   object \n",
      "dtypes: bool(7), float64(1), int64(4), object(1)\n",
      "memory usage: 268.7+ KB\n"
     ]
    }
   ],
   "source": [
    "df.info()"
   ]
  },
  {
   "cell_type": "code",
   "execution_count": 135,
   "metadata": {},
   "outputs": [
    {
     "data": {
      "text/plain": [
       "Label\n",
       "No Fraud    3531\n",
       "Fraud       1469\n",
       "Name: count, dtype: int64"
      ]
     },
     "execution_count": 135,
     "metadata": {},
     "output_type": "execute_result"
    }
   ],
   "source": [
    "df[\"Label\"].value_counts()"
   ]
  },
  {
   "cell_type": "code",
   "execution_count": 136,
   "metadata": {},
   "outputs": [
    {
     "name": "stdout",
     "output_type": "stream",
     "text": [
      "Mapping for column 'Age_Group_18-25':\n",
      "Label 0: False\n",
      "Label 1: True\n",
      "Mapping for column 'Age_Group_26-35':\n",
      "Label 0: False\n",
      "Label 1: True\n",
      "Mapping for column 'Age_Group_36-45':\n",
      "Label 0: False\n",
      "Label 1: True\n",
      "Mapping for column 'Age_Group_46-55':\n",
      "Label 0: False\n",
      "Label 1: True\n",
      "Mapping for column 'Age_Group_56-65':\n",
      "Label 0: False\n",
      "Label 1: True\n",
      "Mapping for column 'Gender_Female':\n",
      "Label 0: False\n",
      "Label 1: True\n",
      "Mapping for column 'Gender_Male':\n",
      "Label 0: False\n",
      "Label 1: True\n",
      "Mapping for column 'Label':\n",
      "Label 0: Fraud\n",
      "Label 1: No Fraud\n"
     ]
    }
   ],
   "source": [
    "#label encoding the object data.\n",
    "from sklearn.preprocessing import LabelEncoder\n",
    "\n",
    "# Store original column names\n",
    "original_columns = df.select_dtypes(include=['object', 'bool']).columns\n",
    "\n",
    "# Initialize LabelEncoder\n",
    "label_encoders = {}\n",
    "\n",
    "# Apply LabelEncoder to each categorical variable\n",
    "for col in original_columns:\n",
    "    label_encoders[col] = LabelEncoder()\n",
    "    df[col] = label_encoders[col].fit_transform(df[col])\n",
    "\n",
    "# Print the mapping between original categories and numerical labels\n",
    "for col, encoder in label_encoders.items():\n",
    "    print(f\"Mapping for column '{col}':\")\n",
    "    for label, category in enumerate(encoder.classes_):\n",
    "        print(f\"Label {label}: {category}\")"
   ]
  },
  {
   "cell_type": "code",
   "execution_count": 137,
   "metadata": {},
   "outputs": [],
   "source": [
    "X = df.drop(\"Label\", axis=1)\n",
    "y = df[\"Label\"]"
   ]
  },
  {
   "cell_type": "code",
   "execution_count": 138,
   "metadata": {},
   "outputs": [],
   "source": [
    "# Handle class imbalance with SMOTE\n",
    "from imblearn.over_sampling import SMOTE\n",
    "smote = SMOTE(random_state=42)\n",
    "X_resampled, y_resampled = smote.fit_resample(X, y)"
   ]
  },
  {
   "cell_type": "code",
   "execution_count": 139,
   "metadata": {},
   "outputs": [
    {
     "data": {
      "text/html": [
       "<div>\n",
       "<style scoped>\n",
       "    .dataframe tbody tr th:only-of-type {\n",
       "        vertical-align: middle;\n",
       "    }\n",
       "\n",
       "    .dataframe tbody tr th {\n",
       "        vertical-align: top;\n",
       "    }\n",
       "\n",
       "    .dataframe thead th {\n",
       "        text-align: right;\n",
       "    }\n",
       "</style>\n",
       "<table border=\"1\" class=\"dataframe\">\n",
       "  <thead>\n",
       "    <tr style=\"text-align: right;\">\n",
       "      <th></th>\n",
       "      <th>Age_Group_18-25</th>\n",
       "      <th>Age_Group_26-35</th>\n",
       "      <th>Age_Group_36-45</th>\n",
       "      <th>Age_Group_46-55</th>\n",
       "      <th>Age_Group_56-65</th>\n",
       "      <th>Gender_Female</th>\n",
       "      <th>Gender_Male</th>\n",
       "      <th>Avg_Transaction_Amount</th>\n",
       "      <th>Add_to_Cart</th>\n",
       "      <th>Browse</th>\n",
       "      <th>Login</th>\n",
       "      <th>Purchase</th>\n",
       "    </tr>\n",
       "  </thead>\n",
       "  <tbody>\n",
       "    <tr>\n",
       "      <th>0</th>\n",
       "      <td>0</td>\n",
       "      <td>0</td>\n",
       "      <td>0</td>\n",
       "      <td>0</td>\n",
       "      <td>1</td>\n",
       "      <td>0</td>\n",
       "      <td>0</td>\n",
       "      <td>674.330112</td>\n",
       "      <td>0</td>\n",
       "      <td>5</td>\n",
       "      <td>2</td>\n",
       "      <td>3</td>\n",
       "    </tr>\n",
       "    <tr>\n",
       "      <th>1</th>\n",
       "      <td>1</td>\n",
       "      <td>0</td>\n",
       "      <td>0</td>\n",
       "      <td>0</td>\n",
       "      <td>0</td>\n",
       "      <td>0</td>\n",
       "      <td>1</td>\n",
       "      <td>513.363208</td>\n",
       "      <td>2</td>\n",
       "      <td>4</td>\n",
       "      <td>1</td>\n",
       "      <td>3</td>\n",
       "    </tr>\n",
       "    <tr>\n",
       "      <th>2</th>\n",
       "      <td>1</td>\n",
       "      <td>0</td>\n",
       "      <td>0</td>\n",
       "      <td>0</td>\n",
       "      <td>0</td>\n",
       "      <td>1</td>\n",
       "      <td>0</td>\n",
       "      <td>968.048672</td>\n",
       "      <td>2</td>\n",
       "      <td>5</td>\n",
       "      <td>1</td>\n",
       "      <td>1</td>\n",
       "    </tr>\n",
       "    <tr>\n",
       "      <th>3</th>\n",
       "      <td>1</td>\n",
       "      <td>0</td>\n",
       "      <td>0</td>\n",
       "      <td>0</td>\n",
       "      <td>0</td>\n",
       "      <td>0</td>\n",
       "      <td>0</td>\n",
       "      <td>297.080606</td>\n",
       "      <td>0</td>\n",
       "      <td>5</td>\n",
       "      <td>2</td>\n",
       "      <td>4</td>\n",
       "    </tr>\n",
       "    <tr>\n",
       "      <th>4</th>\n",
       "      <td>0</td>\n",
       "      <td>1</td>\n",
       "      <td>0</td>\n",
       "      <td>0</td>\n",
       "      <td>0</td>\n",
       "      <td>1</td>\n",
       "      <td>0</td>\n",
       "      <td>629.070774</td>\n",
       "      <td>3</td>\n",
       "      <td>5</td>\n",
       "      <td>1</td>\n",
       "      <td>6</td>\n",
       "    </tr>\n",
       "    <tr>\n",
       "      <th>...</th>\n",
       "      <td>...</td>\n",
       "      <td>...</td>\n",
       "      <td>...</td>\n",
       "      <td>...</td>\n",
       "      <td>...</td>\n",
       "      <td>...</td>\n",
       "      <td>...</td>\n",
       "      <td>...</td>\n",
       "      <td>...</td>\n",
       "      <td>...</td>\n",
       "      <td>...</td>\n",
       "      <td>...</td>\n",
       "    </tr>\n",
       "    <tr>\n",
       "      <th>7057</th>\n",
       "      <td>0</td>\n",
       "      <td>0</td>\n",
       "      <td>0</td>\n",
       "      <td>0</td>\n",
       "      <td>0</td>\n",
       "      <td>0</td>\n",
       "      <td>0</td>\n",
       "      <td>728.122264</td>\n",
       "      <td>1</td>\n",
       "      <td>6</td>\n",
       "      <td>4</td>\n",
       "      <td>5</td>\n",
       "    </tr>\n",
       "    <tr>\n",
       "      <th>7058</th>\n",
       "      <td>0</td>\n",
       "      <td>0</td>\n",
       "      <td>0</td>\n",
       "      <td>0</td>\n",
       "      <td>0</td>\n",
       "      <td>0</td>\n",
       "      <td>0</td>\n",
       "      <td>245.504148</td>\n",
       "      <td>3</td>\n",
       "      <td>7</td>\n",
       "      <td>1</td>\n",
       "      <td>3</td>\n",
       "    </tr>\n",
       "    <tr>\n",
       "      <th>7059</th>\n",
       "      <td>0</td>\n",
       "      <td>0</td>\n",
       "      <td>0</td>\n",
       "      <td>0</td>\n",
       "      <td>0</td>\n",
       "      <td>0</td>\n",
       "      <td>0</td>\n",
       "      <td>354.778168</td>\n",
       "      <td>3</td>\n",
       "      <td>6</td>\n",
       "      <td>2</td>\n",
       "      <td>4</td>\n",
       "    </tr>\n",
       "    <tr>\n",
       "      <th>7060</th>\n",
       "      <td>1</td>\n",
       "      <td>0</td>\n",
       "      <td>0</td>\n",
       "      <td>0</td>\n",
       "      <td>0</td>\n",
       "      <td>0</td>\n",
       "      <td>0</td>\n",
       "      <td>426.859864</td>\n",
       "      <td>2</td>\n",
       "      <td>7</td>\n",
       "      <td>3</td>\n",
       "      <td>5</td>\n",
       "    </tr>\n",
       "    <tr>\n",
       "      <th>7061</th>\n",
       "      <td>0</td>\n",
       "      <td>0</td>\n",
       "      <td>0</td>\n",
       "      <td>0</td>\n",
       "      <td>0</td>\n",
       "      <td>0</td>\n",
       "      <td>0</td>\n",
       "      <td>196.272320</td>\n",
       "      <td>0</td>\n",
       "      <td>7</td>\n",
       "      <td>1</td>\n",
       "      <td>4</td>\n",
       "    </tr>\n",
       "  </tbody>\n",
       "</table>\n",
       "<p>7062 rows × 12 columns</p>\n",
       "</div>"
      ],
      "text/plain": [
       "      Age_Group_18-25  Age_Group_26-35  Age_Group_36-45  Age_Group_46-55  \\\n",
       "0                   0                0                0                0   \n",
       "1                   1                0                0                0   \n",
       "2                   1                0                0                0   \n",
       "3                   1                0                0                0   \n",
       "4                   0                1                0                0   \n",
       "...               ...              ...              ...              ...   \n",
       "7057                0                0                0                0   \n",
       "7058                0                0                0                0   \n",
       "7059                0                0                0                0   \n",
       "7060                1                0                0                0   \n",
       "7061                0                0                0                0   \n",
       "\n",
       "      Age_Group_56-65  Gender_Female  Gender_Male  Avg_Transaction_Amount  \\\n",
       "0                   1              0            0              674.330112   \n",
       "1                   0              0            1              513.363208   \n",
       "2                   0              1            0              968.048672   \n",
       "3                   0              0            0              297.080606   \n",
       "4                   0              1            0              629.070774   \n",
       "...               ...            ...          ...                     ...   \n",
       "7057                0              0            0              728.122264   \n",
       "7058                0              0            0              245.504148   \n",
       "7059                0              0            0              354.778168   \n",
       "7060                0              0            0              426.859864   \n",
       "7061                0              0            0              196.272320   \n",
       "\n",
       "      Add_to_Cart  Browse  Login  Purchase  \n",
       "0               0       5      2         3  \n",
       "1               2       4      1         3  \n",
       "2               2       5      1         1  \n",
       "3               0       5      2         4  \n",
       "4               3       5      1         6  \n",
       "...           ...     ...    ...       ...  \n",
       "7057            1       6      4         5  \n",
       "7058            3       7      1         3  \n",
       "7059            3       6      2         4  \n",
       "7060            2       7      3         5  \n",
       "7061            0       7      1         4  \n",
       "\n",
       "[7062 rows x 12 columns]"
      ]
     },
     "execution_count": 139,
     "metadata": {},
     "output_type": "execute_result"
    }
   ],
   "source": [
    "X_resampled"
   ]
  },
  {
   "cell_type": "code",
   "execution_count": 140,
   "metadata": {},
   "outputs": [
    {
     "data": {
      "text/plain": [
       "0       1\n",
       "1       1\n",
       "2       1\n",
       "3       1\n",
       "4       0\n",
       "       ..\n",
       "7057    0\n",
       "7058    0\n",
       "7059    0\n",
       "7060    0\n",
       "7061    0\n",
       "Name: Label, Length: 7062, dtype: int32"
      ]
     },
     "execution_count": 140,
     "metadata": {},
     "output_type": "execute_result"
    }
   ],
   "source": [
    "y_resampled"
   ]
  },
  {
   "cell_type": "code",
   "execution_count": 141,
   "metadata": {},
   "outputs": [
    {
     "data": {
      "text/plain": [
       "Label\n",
       "1    3531\n",
       "0    3531\n",
       "Name: count, dtype: int64"
      ]
     },
     "execution_count": 141,
     "metadata": {},
     "output_type": "execute_result"
    }
   ],
   "source": [
    "y_resampled.value_counts()"
   ]
  },
  {
   "cell_type": "code",
   "execution_count": 142,
   "metadata": {},
   "outputs": [],
   "source": [
    "# Split data into training and testing sets\n",
    "X_train, X_test, y_train, y_test = train_test_split(X_resampled, y_resampled, test_size=0.2, random_state=42)"
   ]
  },
  {
   "cell_type": "markdown",
   "metadata": {},
   "source": [
    "# Algorithm Implemendation"
   ]
  },
  {
   "cell_type": "markdown",
   "metadata": {},
   "source": [
    "## Random Forest Classifier"
   ]
  },
  {
   "cell_type": "code",
   "execution_count": 143,
   "metadata": {},
   "outputs": [
    {
     "name": "stdout",
     "output_type": "stream",
     "text": [
      "Accuracy: 0.716206652512385\n",
      "\n",
      "Classification Report:\n",
      "               precision    recall  f1-score   support\n",
      "\n",
      "           0       0.72      0.70      0.71       694\n",
      "           1       0.71      0.74      0.73       719\n",
      "\n",
      "    accuracy                           0.72      1413\n",
      "   macro avg       0.72      0.72      0.72      1413\n",
      "weighted avg       0.72      0.72      0.72      1413\n",
      "\n"
     ]
    },
    {
     "data": {
      "image/png": "[encoded data removed]",
      "text/plain": [
       "<Figure size 800x600 with 2 Axes>"
      ]
     },
     "metadata": {},
     "output_type": "display_data"
    }
   ],
   "source": [
    "from sklearn.ensemble import RandomForestClassifier\n",
    "\n",
    "# Create the Random Forest model\n",
    "rf_model = RandomForestClassifier(n_estimators=100, random_state=42)\n",
    "\n",
    "# Fit the model\n",
    "rf_model.fit(X_train, y_train)\n",
    "\n",
    "# Predict on test data\n",
    "rf_y_pred = rf_model.predict(X_test)\n",
    "\n",
    "# Accuracy\n",
    "rf_accuracy = accuracy_score(y_test, rf_y_pred)\n",
    "print(\"Accuracy:\", rf_accuracy)\n",
    "\n",
    "# Classification Report\n",
    "rf_cr = classification_report(y_test, rf_y_pred)\n",
    "print(\"\\nClassification Report:\\n\", rf_cr)\n",
    "\n",
    "# Confusion Matrix\n",
    "rf_cm = confusion_matrix(y_test, rf_y_pred)\n",
    "plt.figure(figsize=(8, 6))\n",
    "sns.heatmap(rf_cm, annot=True, fmt='d', cmap='Blues', xticklabels=np.unique(y), yticklabels=np.unique(y))\n",
    "plt.xlabel('Predicted')\n",
    "plt.ylabel('Actual')\n",
    "plt.title('Confusion Matrix')\n",
    "plt.show()"
   ]
  },
  {
   "cell_type": "markdown",
   "metadata": {},
   "source": [
    "## Gradient Boosting Classifier"
   ]
  },
  {
   "cell_type": "code",
   "execution_count": 144,
   "metadata": {},
   "outputs": [
    {
     "name": "stdout",
     "output_type": "stream",
     "text": [
      "Accuracy: 0.6985138004246284\n",
      "\n",
      "Classification Report:\n",
      "               precision    recall  f1-score   support\n",
      "\n",
      "           0       0.70      0.68      0.69       694\n",
      "           1       0.70      0.71      0.71       719\n",
      "\n",
      "    accuracy                           0.70      1413\n",
      "   macro avg       0.70      0.70      0.70      1413\n",
      "weighted avg       0.70      0.70      0.70      1413\n",
      "\n"
     ]
    },
    {
     "data": {
      "image/png": "[encoded data removed]",
      "text/plain": [
       "<Figure size 800x600 with 2 Axes>"
      ]
     },
     "metadata": {},
     "output_type": "display_data"
    }
   ],
   "source": [
    "from sklearn.ensemble import GradientBoostingClassifier\n",
    "\n",
    "# Create the Gradient Boosting model\n",
    "gbc_model = GradientBoostingClassifier()\n",
    "\n",
    "# Fit the model\n",
    "gbc_model.fit(X_train, y_train)\n",
    "\n",
    "# Predict on test data\n",
    "gbc_y_pred = gbc_model.predict(X_test)\n",
    "\n",
    "# Accuracy\n",
    "gbc_accuracy = accuracy_score(y_test, gbc_y_pred)\n",
    "print(\"Accuracy:\", gbc_accuracy)\n",
    "\n",
    "# Classification Report\n",
    "gbc_cr = classification_report(y_test, gbc_y_pred)\n",
    "print(\"\\nClassification Report:\\n\", gbc_cr)\n",
    "\n",
    "# Confusion Matrix\n",
    "gbc_cm = confusion_matrix(y_test, gbc_y_pred)\n",
    "plt.figure(figsize=(8, 6))\n",
    "sns.heatmap(gbc_cm, annot=True, fmt='d', cmap='Blues', xticklabels=np.unique(y), yticklabels=np.unique(y))\n",
    "plt.xlabel('Predicted')\n",
    "plt.ylabel('Actual')\n",
    "plt.title('Confusion Matrix')\n",
    "plt.show()"
   ]
  },
  {
   "cell_type": "markdown",
   "metadata": {},
   "source": [
    "## AdaBoost Classifier"
   ]
  },
  {
   "cell_type": "code",
   "execution_count": 145,
   "metadata": {},
   "outputs": [
    {
     "name": "stdout",
     "output_type": "stream",
     "text": [
      "Accuracy: 0.6836518046709129\n",
      "\n",
      "Classification Report:\n",
      "               precision    recall  f1-score   support\n",
      "\n",
      "           0       0.67      0.69      0.68       694\n",
      "           1       0.70      0.67      0.68       719\n",
      "\n",
      "    accuracy                           0.68      1413\n",
      "   macro avg       0.68      0.68      0.68      1413\n",
      "weighted avg       0.68      0.68      0.68      1413\n",
      "\n"
     ]
    },
    {
     "data": {
      "image/png": "[encoded data removed]",
      "text/plain": [
       "<Figure size 800x600 with 2 Axes>"
      ]
     },
     "metadata": {},
     "output_type": "display_data"
    }
   ],
   "source": [
    "from sklearn.ensemble import AdaBoostClassifier\n",
    "\n",
    "# Create the Adaboost model\n",
    "ab_model = AdaBoostClassifier()\n",
    "\n",
    "# Fit the model\n",
    "ab_model.fit(X_train, y_train)\n",
    "\n",
    "# Predict on test data\n",
    "ab_y_pred = ab_model.predict(X_test)\n",
    "\n",
    "# Accuracy\n",
    "ab_accuracy = accuracy_score(y_test, ab_y_pred)\n",
    "print(\"Accuracy:\", ab_accuracy)\n",
    "\n",
    "# Classification Report\n",
    "ab_cr = classification_report(y_test, ab_y_pred)\n",
    "print(\"\\nClassification Report:\\n\", ab_cr)\n",
    "\n",
    "# Confusion Matrix\n",
    "ab_cm = confusion_matrix(y_test, ab_y_pred)\n",
    "plt.figure(figsize=(8, 6))\n",
    "sns.heatmap(ab_cm, annot=True, fmt='d', cmap='Blues', xticklabels=np.unique(y), yticklabels=np.unique(y))\n",
    "plt.xlabel('Predicted')\n",
    "plt.ylabel('Actual')\n",
    "plt.title('Confusion Matrix')\n",
    "plt.show()"
   ]
  },
  {
   "cell_type": "markdown",
   "metadata": {},
   "source": [
    "## Stacking Classifier"
   ]
  },
  {
   "cell_type": "code",
   "execution_count": 146,
   "metadata": {},
   "outputs": [
    {
     "name": "stdout",
     "output_type": "stream",
     "text": [
      "[LightGBM] [Info] Number of positive: 2812, number of negative: 2837\n",
      "[LightGBM] [Info] Auto-choosing row-wise multi-threading, the overhead of testing was 0.000042 seconds.\n",
      "You can set `force_row_wise=true` to remove the overhead.\n",
      "And if memory is not enough, you can set `force_col_wise=true`.\n",
      "[LightGBM] [Info] Total Bins 296\n",
      "[LightGBM] [Info] Number of data points in the train set: 5649, number of used features: 12\n",
      "[LightGBM] [Info] [binary:BoostFromScore]: pavg=0.497787 -> initscore=-0.008851\n",
      "[LightGBM] [Info] Start training from score -0.008851\n",
      "[LightGBM] [Info] Number of positive: 2250, number of negative: 2269\n",
      "[LightGBM] [Info] Auto-choosing row-wise multi-threading, the overhead of testing was 0.000057 seconds.\n",
      "You can set `force_row_wise=true` to remove the overhead.\n",
      "And if memory is not enough, you can set `force_col_wise=true`.\n",
      "[LightGBM] [Info] Total Bins 296\n",
      "[LightGBM] [Info] Number of data points in the train set: 4519, number of used features: 12\n",
      "[LightGBM] [Info] [binary:BoostFromScore]: pavg=0.497898 -> initscore=-0.008409\n",
      "[LightGBM] [Info] Start training from score -0.008409\n",
      "[LightGBM] [Info] Number of positive: 2250, number of negative: 2269\n",
      "[LightGBM] [Info] Auto-choosing col-wise multi-threading, the overhead of testing was 0.000201 seconds.\n",
      "You can set `force_col_wise=true` to remove the overhead.\n",
      "[LightGBM] [Info] Total Bins 296\n",
      "[LightGBM] [Info] Number of data points in the train set: 4519, number of used features: 12\n",
      "[LightGBM] [Info] [binary:BoostFromScore]: pavg=0.497898 -> initscore=-0.008409\n",
      "[LightGBM] [Info] Start training from score -0.008409\n",
      "[LightGBM] [Info] Number of positive: 2249, number of negative: 2270\n",
      "[LightGBM] [Info] Auto-choosing col-wise multi-threading, the overhead of testing was 0.000207 seconds.\n",
      "You can set `force_col_wise=true` to remove the overhead.\n",
      "[LightGBM] [Info] Total Bins 296\n",
      "[LightGBM] [Info] Number of data points in the train set: 4519, number of used features: 12\n",
      "[LightGBM] [Info] [binary:BoostFromScore]: pavg=0.497676 -> initscore=-0.009294\n",
      "[LightGBM] [Info] Start training from score -0.009294\n",
      "[LightGBM] [Info] Number of positive: 2249, number of negative: 2270\n",
      "[LightGBM] [Info] Auto-choosing row-wise multi-threading, the overhead of testing was 0.000063 seconds.\n",
      "You can set `force_row_wise=true` to remove the overhead.\n",
      "And if memory is not enough, you can set `force_col_wise=true`.\n",
      "[LightGBM] [Info] Total Bins 296\n",
      "[LightGBM] [Info] Number of data points in the train set: 4519, number of used features: 12\n",
      "[LightGBM] [Info] [binary:BoostFromScore]: pavg=0.497676 -> initscore=-0.009294\n",
      "[LightGBM] [Info] Start training from score -0.009294\n",
      "[LightGBM] [Info] Number of positive: 2250, number of negative: 2270\n",
      "[LightGBM] [Info] Auto-choosing col-wise multi-threading, the overhead of testing was 0.000179 seconds.\n",
      "You can set `force_col_wise=true` to remove the overhead.\n",
      "[LightGBM] [Info] Total Bins 296\n",
      "[LightGBM] [Info] Number of data points in the train set: 4520, number of used features: 12\n",
      "[LightGBM] [Info] [binary:BoostFromScore]: pavg=0.497788 -> initscore=-0.008850\n",
      "[LightGBM] [Info] Start training from score -0.008850\n",
      "Accuracy: 0.7558386411889597\n",
      "\n",
      "Classification Report:\n",
      "               precision    recall  f1-score   support\n",
      "\n",
      "           0       0.78      0.69      0.74       694\n",
      "           1       0.73      0.82      0.77       719\n",
      "\n",
      "    accuracy                           0.76      1413\n",
      "   macro avg       0.76      0.75      0.75      1413\n",
      "weighted avg       0.76      0.76      0.75      1413\n",
      "\n"
     ]
    },
    {
     "data": {
      "image/png": "[encoded data removed]",
      "text/plain": [
       "<Figure size 800x600 with 2 Axes>"
      ]
     },
     "metadata": {},
     "output_type": "display_data"
    }
   ],
   "source": [
    "from sklearn.ensemble import StackingClassifier\n",
    "from sklearn.linear_model import LogisticRegression\n",
    "from sklearn.metrics import accuracy_score, classification_report\n",
    "from xgboost import XGBClassifier\n",
    "from lightgbm import LGBMClassifier\n",
    "from sklearn.svm import SVC\n",
    "from sklearn.neighbors import KNeighborsClassifier\n",
    "from sklearn.ensemble import RandomForestClassifier\n",
    "from sklearn.neural_network import MLPClassifier\n",
    "\n",
    "# Base models\n",
    "base_models = [\n",
    "    ('svc', SVC()),\n",
    "    ('knn', KNeighborsClassifier()),\n",
    "    ('random_forest', RandomForestClassifier()),\n",
    "    ('xgboost', XGBClassifier()),\n",
    "    ('lightgbm', LGBMClassifier())\n",
    "]\n",
    "\n",
    "\n",
    "# meta-classifier\n",
    "meta_classifier = MLPClassifier()\n",
    "\n",
    "# Create the Stacking Classifier model\n",
    "stacking_model = StackingClassifier(estimators=base_models, final_estimator=meta_classifier)\n",
    "\n",
    "\n",
    "# Fit the model\n",
    "stacking_model.fit(X_train, y_train)\n",
    "\n",
    "# Predict on test data\n",
    "stackingy_pred = stacking_model.predict(X_test)\n",
    "\n",
    "# Accuracy\n",
    "stackingy_accuracy = accuracy_score(y_test, stackingy_pred)\n",
    "print(\"Accuracy:\", stackingy_accuracy)\n",
    "\n",
    "# Classification Report\n",
    "stackingy_cr = classification_report(y_test, stackingy_pred)\n",
    "print(\"\\nClassification Report:\\n\", stackingy_cr)\n",
    "\n",
    "# Confusion Matrix\n",
    "stacking_cm = confusion_matrix(y_test, stackingy_pred)\n",
    "plt.figure(figsize=(8, 6))\n",
    "sns.heatmap(stacking_cm, annot=True, fmt='d', cmap='Blues', xticklabels=np.unique(y), yticklabels=np.unique(y))\n",
    "plt.xlabel('Predicted')\n",
    "plt.ylabel('Actual')\n",
    "plt.title('Confusion Matrix')\n",
    "plt.show()"
   ]
  },
  {
   "cell_type": "code",
   "execution_count": 147,
   "metadata": {},
   "outputs": [
    {
     "data": {
      "image/png": "[encoded data removed]",
      "text/plain": [
       "<Figure size 1000x600 with 1 Axes>"
      ]
     },
     "metadata": {},
     "output_type": "display_data"
    }
   ],
   "source": [
    "import matplotlib.pyplot as plt\n",
    "\n",
    "# Example accuracy scores from multiple models\n",
    "models = ['Random Forest', 'Gradient Boosting', 'AdaBoost', 'stacking classifier']\n",
    "accuracies = [rf_accuracy, gbc_accuracy, ab_accuracy, stackingy_accuracy]\n",
    "\n",
    "# Adjusting the accuracy values to a percentage scale (0 to 100)\n",
    "accuracies_percentage = [accuracy * 100 for accuracy in accuracies]\n",
    "\n",
    "# Plotting the accuracy comparison graph with percentages\n",
    "plt.figure(figsize=(10, 6))\n",
    "plt.bar(models, accuracies_percentage, alpha=0.7, edgecolor='black')\n",
    "plt.title('Model Accuracy Comparison', fontsize=14)\n",
    "plt.xlabel('Models', fontsize=12)\n",
    "plt.ylabel('Accuracy (%)', fontsize=12)\n",
    "plt.ylim(0, 100)\n",
    "plt.grid(axis='y', linestyle='--', alpha=0.7)\n",
    "plt.xticks(fontsize=10)\n",
    "plt.yticks(range(0, 101, 10), fontsize=10)\n",
    "plt.show()"
   ]
  },
  {
   "cell_type": "code",
   "execution_count": null,
   "metadata": {},
   "outputs": [],
   "source": [
    "# Save Model\n",
    "import pickle\n",
    "\n",
    "with open('Models/random_forest.pkl', 'wb') as f:\n",
    "    pickle.dump(rf_model, f)\n",
    "\n",
    "with open('Models/gradient_boost.pkl', 'wb') as f:\n",
    "    pickle.dump(gbc_model, f)\n",
    "\n",
    "with open('Models/adabost.pkl', 'wb') as f:\n",
    "    pickle.dump(ab_model, f)\n",
    "\n",
    "with open('Models/stacking_clf.pkl', 'wb') as f:\n",
    "    pickle.dump(stacking_model, f)"
   ]
  }
 ],
 "metadata": {
  "kernelspec": {
   "display_name": "tk166411",
   "language": "python",
   "name": "python3"
  },
  "language_info": {
   "codemirror_mode": {
    "name": "ipython",
    "version": 3
   },
   "file_extension": ".py",
   "mimetype": "text/x-python",
   "name": "python",
   "nbconvert_exporter": "python",
   "pygments_lexer": "ipython3",
   "version": "3.10.8"
  }
 },
 "nbformat": 4,
 "nbformat_minor": 2
}
